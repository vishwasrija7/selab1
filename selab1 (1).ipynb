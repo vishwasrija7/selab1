{
  "metadata": {
    "kernelspec": {
      "name": "python",
      "display_name": "Python (Pyodide)",
      "language": "python"
    },
    "language_info": {
      "codemirror_mode": {
        "name": "python",
        "version": 3
      },
      "file_extension": ".py",
      "mimetype": "text/x-python",
      "name": "python",
      "nbconvert_exporter": "python",
      "pygments_lexer": "ipython3",
      "version": "3.8"
    }
  },
  "nbformat_minor": 5,
  "nbformat": 4,
  "cells": [
    {
      "id": "d130b353-d218-461a-899d-2bc9196c86f5",
      "cell_type": "code",
      "source": "import math\n\na = 1\nb = -3\nc = 2\n\nD = b**2 - 4*a*c\n\nif D >= 0:\n    x1 = (-b + math.sqrt(D)) / (2*a)\n    x2 = (-b - math.sqrt(D)) / (2*a)\n    print(f\"Roots: {x1}, {x2}\")\nelse:\n    print(\"No real roots\")\n",
      "metadata": {
        "trusted": true
      },
      "outputs": [
        {
          "name": "stdout",
          "output_type": "stream",
          "text": "Roots: 2.0, 1.0\n"
        }
      ],
      "execution_count": 6
    },
    {
      "id": "d0fdeeff-53f3-458d-ab2d-86c931f58bad",
      "cell_type": "code",
      "source": "",
      "metadata": {
        "trusted": true
      },
      "outputs": [],
      "execution_count": null
    },
    {
      "id": "c06ac0aa-3946-4868-8bc9-31ca1919bb0b",
      "cell_type": "code",
      "source": "import math\n\na = float(input(\"Enter a: \"))\nb = float(input(\"Enter b: \"))\nc = float(input(\"Enter c: \"))\n\nD = b**2 - 4*a*c\n\nif D >= 0:\n    x1 = (-b + math.sqrt(D)) / (2*a)\n    x2 = (-b - math.sqrt(D)) / (2*a)\n    print(f\"Roots: {x1}, {x2}\")\nelse:\n    print(\"No real roots\")\n",
      "metadata": {
        "trusted": true
      },
      "outputs": [
        {
          "output_type": "stream",
          "name": "stdin",
          "text": "Enter a:  -1\nEnter b:  3\nEnter c:  2\n"
        },
        {
          "name": "stdout",
          "output_type": "stream",
          "text": "Roots: -0.5615528128088303, 3.5615528128088303\n"
        }
      ],
      "execution_count": 7
    },
    {
      "id": "0cf07166-9888-4df2-9376-8108b3133b68",
      "cell_type": "code",
      "source": "import math\n\ndef solve_quadratic(a, b, c):\n    discriminant = b**2 - 4*a*c\n    if discriminant < 0:\n        return None  # no real roots\n    root1 = (-b + math.sqrt(discriminant)) / (2*a)\n    root2 = (-b - math.sqrt(discriminant)) / (2*a)\n    return root1, root2\n\n# Step 1: Create the input file with one line of coefficients\nwith open(\"input.txt\", \"w\") as f:\n    f.write(\"1 -5 6\\n\")  # example coefficients a=1, b=-5, c=6\n\n# Step 2: Read from the input file\nwith open(\"input.txt\", \"r\") as file:\n    line = file.readline()\n    a, b, c = map(float, line.split())\n\n# Step 3: Solve and print roots\nroots = solve_quadratic(a, b, c)\nif roots:\n    print(f\"Roots: {roots[0]:.2f}, {roots[1]:.2f}\")\nelse:\n    print(\"No real roots\")\n",
      "metadata": {
        "trusted": true
      },
      "outputs": [
        {
          "name": "stdout",
          "output_type": "stream",
          "text": "Roots: 3.00, 2.00\n"
        }
      ],
      "execution_count": 8
    },
    {
      "id": "e3cfb7d9-8daf-4d40-a0eb-e7316738b5e5",
      "cell_type": "code",
      "source": "import math\n\ndef solve_quadratic(a, b, c):\n    discriminant = b**2 - 4*a*c\n    if discriminant < 0:\n        return None  # no real roots\n    root1 = (-b + math.sqrt(discriminant)) / (2*a)\n    root2 = (-b - math.sqrt(discriminant)) / (2*a)\n    return root1, root2\n\n\nwith open(\"single_input.txt\", \"w\") as f:\n    f.write(\"2 -4 -6\\n\") \n\n\nwith open(\"single_input.txt\", \"r\") as file:\n    line = file.readline()\n    a, b, c = map(float, line.split())\n\n# Solve quadratic and print results\nroots = solve_quadratic(a, b, c)\nif roots:\n    print(f\"Roots: {roots[0]:.2f}, {roots[1]:.2f}\")\nelse:\n    print(\"No real roots\")\n",
      "metadata": {
        "trusted": true
      },
      "outputs": [
        {
          "name": "stdout",
          "output_type": "stream",
          "text": "Roots: 3.00, -1.00\n"
        }
      ],
      "execution_count": 9
    }
  ]
}