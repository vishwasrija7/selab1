{
  "metadata": {
    "kernelspec": {
      "name": "python",
      "display_name": "Python (Pyodide)",
      "language": "python"
    },
    "language_info": {
      "codemirror_mode": {
        "name": "python",
        "version": 3
      },
      "file_extension": ".py",
      "mimetype": "text/x-python",
      "name": "python",
      "nbconvert_exporter": "python",
      "pygments_lexer": "ipython3",
      "version": "3.8"
    }
  },
  "nbformat_minor": 5,
  "nbformat": 4,
  "cells": [
    {
      "id": "8b27ff58-4f35-43f0-a340-b7abfd961a83",
      "cell_type": "code",
      "source": "def quadratic_temp(a, b, c, times):\n    return [a * t**2 + b * t + c for t in times]\n\nmodels = [\n    {\"name\": \"City A\", \"a\": -0.01, \"b\": 0.4, \"c\": 22},\n    {\"name\": \"City B\", \"a\": 0.015, \"b\": -0.3, \"c\": 25}\n]\n\ntimes = range(0, 7)\n\nfor m in models:\n    temps = quadratic_temp(m['a'], m['b'], m['c'], times)\n    print(f\"{m['name']}: \", \" \".join(f\"{round(t,1)}\" for t in temps))\n",
      "metadata": {
        "trusted": true
      },
      "outputs": [
        {
          "name": "stdout",
          "output_type": "stream",
          "text": "City A:  22.0 22.4 22.8 23.1 23.4 23.8 24.0\nCity B:  25.0 24.7 24.5 24.2 24.0 23.9 23.7\n"
        }
      ],
      "execution_count": 1
    },
    {
      "id": "9c411793-846b-44b7-b7db-63c848df8caa",
      "cell_type": "code",
      "source": "def quadratic_temp(a, b, c, times):\n    return [a * t**2 + b * t + c for t in times]\n\n# Make sure this block stays before it's used!\nmodels = [\n    {\"name\": \"City A\", \"a\": -0.01, \"b\": 0.4, \"c\": 22},\n    {\"name\": \"City B\", \"a\": 0.015, \"b\": -0.3, \"c\": 25}\n]\n\ntimes = range(0, 7)  # 0 to 6 hours\noutput = \"\"\n\nfor m in models:\n    try:\n        temps = quadratic_temp(float(m['a']), float(m['b']), float(m['c']), times)\n        temp_line = \" \".join(f\"{round(t,1)}\" for t in temps)\n        output += f\"{m['name']}: {temp_line}\\n\"\n    except Exception as e:\n        output += f\"{m.get('name', 'Unknown')}: Error - {e}\\n\"\n\nprint(output)",
      "metadata": {
        "trusted": true
      },
      "outputs": [
        {
          "name": "stdout",
          "output_type": "stream",
          "text": "City A: 22.0 22.4 22.8 23.1 23.4 23.8 24.0\nCity B: 25.0 24.7 24.5 24.2 24.0 23.9 23.7\n\n"
        }
      ],
      "execution_count": 2
    },
    {
      "id": "c301fe4e-17d3-46e9-b86b-0f330dd7b4f2",
      "cell_type": "code",
      "source": "def quadratic_temperature_model(a, b, c, time_points):\n    return [a * t**2 + b * t + c for t in time_points]\n\ndef safe_run_model(model, time_points):\n    try:\n        a = float(model['a'])\n        b = float(model['b'])\n        c = float(model['c'])\n        name = model.get('name', 'Unnamed Model')\n        temps = quadratic_temperature_model(a, b, c, time_points)\n        print(f\"\\n{name} Temperatures:\")\n        for t, temp in zip(time_points, temps):\n            print(f\"Hour {t}: {temp:.2f}°C\")\n    except (KeyError, ValueError, TypeError) as e:\n        print(f\"Error in model '{model}': {e}\")\n\n# Models with one faulty entry\nmodels = [\n    {\"name\": \"City A\", \"a\": -0.01, \"b\": 0.5, \"c\": 20},\n    {\"name\": \"City B\", \"a\": \"oops\", \"b\": -0.4, \"c\": 25},  # Faulty input\n    {\"name\": \"City C\", \"a\": -0.005, \"b\": 0.3, \"c\": 15}\n]\n\ntime_points = list(range(0, 25))\n\nfor model in models:\n    safe_run_model(model, time_points)\n",
      "metadata": {
        "trusted": true
      },
      "outputs": [
        {
          "name": "stdout",
          "output_type": "stream",
          "text": "\nCity A Temperatures:\nHour 0: 20.00°C\nHour 1: 20.49°C\nHour 2: 20.96°C\nHour 3: 21.41°C\nHour 4: 21.84°C\nHour 5: 22.25°C\nHour 6: 22.64°C\nHour 7: 23.01°C\nHour 8: 23.36°C\nHour 9: 23.69°C\nHour 10: 24.00°C\nHour 11: 24.29°C\nHour 12: 24.56°C\nHour 13: 24.81°C\nHour 14: 25.04°C\nHour 15: 25.25°C\nHour 16: 25.44°C\nHour 17: 25.61°C\nHour 18: 25.76°C\nHour 19: 25.89°C\nHour 20: 26.00°C\nHour 21: 26.09°C\nHour 22: 26.16°C\nHour 23: 26.21°C\nHour 24: 26.24°C\nError in model '{'name': 'City B', 'a': 'oops', 'b': -0.4, 'c': 25}': could not convert string to float: 'oops'\n\nCity C Temperatures:\nHour 0: 15.00°C\nHour 1: 15.29°C\nHour 2: 15.58°C\nHour 3: 15.86°C\nHour 4: 16.12°C\nHour 5: 16.38°C\nHour 6: 16.62°C\nHour 7: 16.86°C\nHour 8: 17.08°C\nHour 9: 17.30°C\nHour 10: 17.50°C\nHour 11: 17.70°C\nHour 12: 17.88°C\nHour 13: 18.05°C\nHour 14: 18.22°C\nHour 15: 18.38°C\nHour 16: 18.52°C\nHour 17: 18.66°C\nHour 18: 18.78°C\nHour 19: 18.89°C\nHour 20: 19.00°C\nHour 21: 19.09°C\nHour 22: 19.18°C\nHour 23: 19.25°C\nHour 24: 19.32°C\n"
        }
      ],
      "execution_count": 3
    },
    {
      "id": "70875b37-6912-431f-ae21-ba98f2c89b36",
      "cell_type": "code",
      "source": "",
      "metadata": {
        "trusted": true
      },
      "outputs": [],
      "execution_count": null
    }
  ]
}