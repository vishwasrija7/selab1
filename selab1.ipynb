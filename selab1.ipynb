{
  "metadata": {
    "kernelspec": {
      "name": "python",
      "display_name": "Python (Pyodide)",
      "language": "python"
    },
    "language_info": {
      "codemirror_mode": {
        "name": "python",
        "version": 3
      },
      "file_extension": ".py",
      "mimetype": "text/x-python",
      "name": "python",
      "nbconvert_exporter": "python",
      "pygments_lexer": "ipython3",
      "version": "3.8"
    }
  },
  "nbformat_minor": 5,
  "nbformat": 4,
  "cells": [
    {
      "id": "d130b353-d218-461a-899d-2bc9196c86f5",
      "cell_type": "code",
      "source": "import math\n\na = 1\nb = -3\nc = 2\n\nD = b**2 - 4*a*c\n\nif D >= 0:\n    x1 = (-b + math.sqrt(D)) / (2*a)\n    x2 = (-b - math.sqrt(D)) / (2*a)\n    print(f\"Roots: {x1}, {x2}\")\nelse:\n    print(\"No real roots\")\n",
      "metadata": {
        "trusted": true
      },
      "outputs": [
        {
          "name": "stdout",
          "output_type": "stream",
          "text": "Roots: 2.0, 1.0\n"
        }
      ],
      "execution_count": 1
    },
    {
      "id": "d0fdeeff-53f3-458d-ab2d-86c931f58bad",
      "cell_type": "code",
      "source": "",
      "metadata": {
        "trusted": true
      },
      "outputs": [],
      "execution_count": null
    },
    {
      "id": "c06ac0aa-3946-4868-8bc9-31ca1919bb0b",
      "cell_type": "code",
      "source": "import math\n\na = float(input(\"Enter a: \"))\nb = float(input(\"Enter b: \"))\nc = float(input(\"Enter c: \"))\n\nD = b**2 - 4*a*c\n\nif D >= 0:\n    x1 = (-b + math.sqrt(D)) / (2*a)\n    x2 = (-b - math.sqrt(D)) / (2*a)\n    print(f\"Roots: {x1}, {x2}\")\nelse:\n    print(\"No real roots\")\n",
      "metadata": {
        "trusted": true
      },
      "outputs": [
        {
          "output_type": "stream",
          "name": "stdin",
          "text": "Enter a:  -2\nEnter b:  6\nEnter c:  3\n"
        },
        {
          "name": "stdout",
          "output_type": "stream",
          "text": "Roots: -0.4364916731037085, 3.4364916731037085\n"
        }
      ],
      "execution_count": 2
    },
    {
      "id": "0cf07166-9888-4df2-9376-8108b3133b68",
      "cell_type": "code",
      "source": "",
      "metadata": {
        "trusted": true
      },
      "outputs": [],
      "execution_count": null
    }
  ]
}